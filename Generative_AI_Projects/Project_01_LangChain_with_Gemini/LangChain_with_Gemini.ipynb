{
  "nbformat": 4,
  "nbformat_minor": 0,
  "metadata": {
    "colab": {
      "provenance": [],
      "toc_visible": true,
      "authorship_tag": "ABX9TyNSgH6IZbllQvTCohzOwtkK",
      "include_colab_link": true
    },
    "kernelspec": {
      "name": "python3",
      "display_name": "Python 3"
    },
    "language_info": {
      "name": "python"
    }
  },
  "cells": [
    {
      "cell_type": "markdown",
      "metadata": {
        "id": "view-in-github",
        "colab_type": "text"
      },
      "source": [
        "<a href=\"https://colab.research.google.com/github/HaiderMirza110/Agentic_AI/blob/main/Generative_AI_Projects/Project_01_LangChain_with_Gemini/LangChain_with_Gemini.ipynb\" target=\"_parent\"><img src=\"https://colab.research.google.com/assets/colab-badge.svg\" alt=\"Open In Colab\"/></a>"
      ]
    },
    {
      "cell_type": "code",
      "execution_count": null,
      "metadata": {
        "colab": {
          "base_uri": "https://localhost:8080/"
        },
        "id": "IoQ08CM9ByCX",
        "outputId": "170f6450-15b3-486b-f1a9-0128280df3ba"
      },
      "outputs": [
        {
          "output_type": "stream",
          "name": "stdout",
          "text": [
            "\u001b[?25l   \u001b[90m━━━━━━━━━━━━━━━━━━━━━━━━━━━━━━━━━━━━━━━━\u001b[0m \u001b[32m0.0/41.3 kB\u001b[0m \u001b[31m?\u001b[0m eta \u001b[36m-:--:--\u001b[0m\r\u001b[2K   \u001b[90m━━━━━━━━━━━━━━━━━━━━━━━━━━━━━━━━━━━━━━━━\u001b[0m \u001b[32m41.3/41.3 kB\u001b[0m \u001b[31m1.6 MB/s\u001b[0m eta \u001b[36m0:00:00\u001b[0m\n",
            "\u001b[?25h"
          ]
        }
      ],
      "source": [
        "!pip install -q -U langchain\n",
        "!pip install -q -U langchain-google-genai"
      ]
    },
    {
      "cell_type": "code",
      "source": [
        "# Import the IPython library to access its application instance\n",
        "import IPython\n",
        "\n",
        "# Retrieve the current IPython application instance\n",
        "app = IPython.Application.instance()\n",
        "\n",
        "# Perform a complete shutdown of the current IPython kernel including restarting the kernel\n",
        "# it will help the environment to access the new packages\n",
        "app.kernel.do_shutdown(True)"
      ],
      "metadata": {
        "colab": {
          "base_uri": "https://localhost:8080/"
        },
        "id": "ZZIt07BpB6ai",
        "outputId": "ec804ed2-8001-4898-a5e6-0e0c57cffb6b"
      },
      "execution_count": null,
      "outputs": [
        {
          "output_type": "execute_result",
          "data": {
            "text/plain": [
              "{'status': 'ok', 'restart': True}"
            ]
          },
          "metadata": {},
          "execution_count": 2
        }
      ]
    },
    {
      "cell_type": "code",
      "source": [
        "# Import the textwrap module for text formatting and indentation\n",
        "import textwrap\n",
        "\n",
        "# Import the Markdown display function from IPython to render text as Markdown in Jupyter Notebooks\n",
        "from IPython.display import Markdown\n",
        "\n",
        "# Define a function 'to_markdown' that converts a given text into Markdown format\n",
        "def to_markdown(text) -> Markdown:\n",
        "    # Replace bullet points (•) with Markdown-compatible bullet points (*)\n",
        "    text: str = text.replace(\"•\", \"  *\")\n",
        "\n",
        "    # Indent the entire text block with the Markdown blockquote symbol ('> ')\n",
        "    # The lambda function ensures every line is indented\n",
        "    return Markdown(textwrap.indent(text, \"> \", predicate=lambda _: True))"
      ],
      "metadata": {
        "id": "5SOOGi6iLsOa"
      },
      "execution_count": null,
      "outputs": []
    },
    {
      "cell_type": "code",
      "source": [
        "# Importing userdata from Google Colab to securely store and access API keys\n",
        "from google.colab import userdata"
      ],
      "metadata": {
        "id": "acySqgXmLuik"
      },
      "execution_count": null,
      "outputs": []
    },
    {
      "cell_type": "code",
      "source": [
        "# after saving api key in env variables\n",
        "# get api key from env\n",
        "GOOGLE_API_KEY = userdata.get('GOOGLE_API_KEY')"
      ],
      "metadata": {
        "id": "jmXt0PiILw8h"
      },
      "execution_count": null,
      "outputs": []
    },
    {
      "cell_type": "code",
      "source": [
        "# Import the ChatGoogleGenerativeAI class from the langchain_google_genai module\n",
        "# this will be used for using langchain with gemni\n",
        "from langchain_google_genai import ChatGoogleGenerativeAI\n",
        "\n",
        "# Import the AIMessage class currently will be used for typing\n",
        "from langchain_core.messages.ai import AIMessage\n",
        "\n",
        "# Initialize an instance of the ChatGoogleGenerativeAI with specific parameters\n",
        "response: ChatGoogleGenerativeAI = ChatGoogleGenerativeAI(\n",
        "    model=\"gemini-2.0-flash-exp\",  # Specify the model to use\n",
        "    api_key=GOOGLE_API_KEY,     # Provide the Google API key for authentication\n",
        "    temperature=0.1,            # Set the randomness of the model's responses (0 = deterministic, 1 = very random)\n",
        ")"
      ],
      "metadata": {
        "id": "8N-3uupzL0DX"
      },
      "execution_count": null,
      "outputs": []
    },
    {
      "cell_type": "code",
      "source": [
        "# Invoke the LangChain model with a prompt to generate a response\n",
        "ai_msg: AIMessage = response.invoke(\"there is a Holiday in Pakistan on 25 dec, 2024 which two events happen in 25 dec?\")"
      ],
      "metadata": {
        "id": "ZnTd49F0L42a"
      },
      "execution_count": null,
      "outputs": []
    },
    {
      "cell_type": "code",
      "source": [
        "# display complete response\n",
        "ai_msg"
      ],
      "metadata": {
        "colab": {
          "base_uri": "https://localhost:8080/"
        },
        "id": "JbRtF35cMQAR",
        "outputId": "8257c166-8fba-4927-f9bb-e98678ad701f"
      },
      "execution_count": null,
      "outputs": [
        {
          "output_type": "execute_result",
          "data": {
            "text/plain": [
              "AIMessage(content=\"Yes, you are correct. There is a public holiday in Pakistan on December 25th. This date is significant for two reasons:\\n\\n1.  **Quaid-e-Azam's Birthday:** December 25th is the birth anniversary of Muhammad Ali Jinnah, the founder of Pakistan, who is also known as Quaid-e-Azam (Great Leader). It's a national holiday to commemorate his life and contributions to the nation.\\n\\n2.  **Christmas Day:** December 25th is also Christmas Day, a religious holiday celebrated by Christians around the world, including the Christian community in Pakistan. While it's a public holiday in Pakistan, it's primarily observed as a religious holiday by Christians.\\n\\nTherefore, on December 25th in Pakistan, both **Quaid-e-Azam's Birthday** and **Christmas Day** are observed.\\n\", additional_kwargs={}, response_metadata={'prompt_feedback': {'block_reason': 0, 'safety_ratings': []}, 'finish_reason': 'STOP', 'safety_ratings': [{'category': 'HARM_CATEGORY_HATE_SPEECH', 'probability': 'NEGLIGIBLE', 'blocked': False}, {'category': 'HARM_CATEGORY_DANGEROUS_CONTENT', 'probability': 'NEGLIGIBLE', 'blocked': False}, {'category': 'HARM_CATEGORY_HARASSMENT', 'probability': 'NEGLIGIBLE', 'blocked': False}, {'category': 'HARM_CATEGORY_SEXUALLY_EXPLICIT', 'probability': 'NEGLIGIBLE', 'blocked': False}]}, id='run-d7495858-9b80-40ad-90ed-88b46dbb4e6e-0', usage_metadata={'input_tokens': 28, 'output_tokens': 187, 'total_tokens': 215, 'input_token_details': {'cache_read': 0}})"
            ]
          },
          "metadata": {},
          "execution_count": 21
        }
      ]
    },
    {
      "cell_type": "code",
      "source": [
        "ai_msg.content"
      ],
      "metadata": {
        "colab": {
          "base_uri": "https://localhost:8080/",
          "height": 87
        },
        "id": "XqlyM1csMS0-",
        "outputId": "f0dfbc81-3b5a-4ec8-d0fb-e62bc610ec67"
      },
      "execution_count": null,
      "outputs": [
        {
          "output_type": "execute_result",
          "data": {
            "text/plain": [
              "\"Yes, you are correct. There is a public holiday in Pakistan on December 25th. This date is significant for two reasons:\\n\\n1.  **Quaid-e-Azam's Birthday:** December 25th is the birth anniversary of Muhammad Ali Jinnah, the founder of Pakistan, who is also known as Quaid-e-Azam (Great Leader). It's a national holiday to commemorate his life and contributions to the nation.\\n\\n2.  **Christmas Day:** December 25th is also Christmas Day, a religious holiday celebrated by Christians around the world, including the Christian community in Pakistan. While it's a public holiday in Pakistan, it's primarily observed as a religious holiday by Christians.\\n\\nTherefore, on December 25th in Pakistan, both **Quaid-e-Azam's Birthday** and **Christmas Day** are observed.\\n\""
            ],
            "application/vnd.google.colaboratory.intrinsic+json": {
              "type": "string"
            }
          },
          "metadata": {},
          "execution_count": 22
        }
      ]
    },
    {
      "cell_type": "code",
      "source": [
        "# format the response with markdown\n",
        "to_markdown(ai_msg.content)"
      ],
      "metadata": {
        "colab": {
          "base_uri": "https://localhost:8080/",
          "height": 183
        },
        "id": "Doos9ICwMVJc",
        "outputId": "15696891-0ea7-4640-acc7-c7f08f8d366c"
      },
      "execution_count": null,
      "outputs": [
        {
          "output_type": "execute_result",
          "data": {
            "text/plain": [
              "<IPython.core.display.Markdown object>"
            ],
            "text/markdown": "> Yes, you are correct. There is a public holiday in Pakistan on December 25th. This date is significant for two reasons:\n> \n> 1.  **Quaid-e-Azam's Birthday:** December 25th is the birth anniversary of Muhammad Ali Jinnah, the founder of Pakistan, who is also known as Quaid-e-Azam (Great Leader). It's a national holiday to commemorate his life and contributions to the nation.\n> \n> 2.  **Christmas Day:** December 25th is also Christmas Day, a religious holiday celebrated by Christians around the world, including the Christian community in Pakistan. While it's a public holiday in Pakistan, it's primarily observed as a religious holiday by Christians.\n> \n> Therefore, on December 25th in Pakistan, both **Quaid-e-Azam's Birthday** and **Christmas Day** are observed.\n"
          },
          "metadata": {},
          "execution_count": 23
        }
      ]
    },
    {
      "cell_type": "code",
      "source": [
        "from typing import Dict\n",
        "\n",
        "message: list[Dict[str, str]] = [\n",
        "    {\"role\": \"system\", \"content\": \"You are a helpful assistant.\"},\n",
        "    {\"role\": \"user\", \"content\": \"Which open source AI Model is best so far for image creation\"},\n",
        "]\n",
        "\n",
        "ai_msg = response.invoke(message)"
      ],
      "metadata": {
        "id": "kGSfmY_5MYgA"
      },
      "execution_count": null,
      "outputs": []
    },
    {
      "cell_type": "code",
      "source": [
        "print(ai_msg.content)"
      ],
      "metadata": {
        "colab": {
          "base_uri": "https://localhost:8080/"
        },
        "id": "omtu6ZWrMbAA",
        "outputId": "44e8ec38-6012-4481-b078-c4fe715e931e"
      },
      "execution_count": null,
      "outputs": [
        {
          "output_type": "stream",
          "name": "stdout",
          "text": [
            "That's a great question! The landscape of open-source AI image generation models is constantly evolving, and \"best\" can be subjective depending on your specific needs. However, I can give you a rundown of some of the top contenders and what they excel at:\n",
            "\n",
            "**Top Open-Source Image Generation Models (as of late 2023/early 2024):**\n",
            "\n",
            "1.  **Stable Diffusion (and its variants):**\n",
            "    *   **Strengths:**\n",
            "        *   **Versatility:** Highly adaptable and capable of generating a wide range of image styles, from photorealistic to artistic.\n",
            "        *   **Large Community:** Huge and active community, leading to tons of resources, tutorials, and pre-trained models.\n",
            "        *   **Customization:** Highly customizable through fine-tuning, LoRAs (Low-Rank Adaptation), and ControlNets.\n",
            "        *   **Accessibility:** Relatively easy to run on consumer-grade hardware (especially with optimized versions).\n",
            "        *   **Rapid Development:** Constantly being improved and updated.\n",
            "    *   **Weaknesses:**\n",
            "        *   **Can be complex to master:** Requires some technical knowledge to fully utilize its potential.\n",
            "        *   **Initial setup can be challenging:** Setting up the environment and dependencies can be tricky for beginners.\n",
            "    *   **Key Variants:**\n",
            "        *   **Stable Diffusion XL (SDXL):** The latest major version, offering improved image quality and detail.\n",
            "        *   **Community-Trained Models:** Many fine-tuned models exist for specific styles (e.g., anime, realistic portraits).\n",
            "    *   **Use Cases:** General image generation, art creation, photo editing, style transfer, and more.\n",
            "\n",
            "2.  **ComfyUI:**\n",
            "    *   **Strengths:**\n",
            "        *   **Node-Based Interface:** Offers a visual, node-based workflow for creating complex image generation pipelines.\n",
            "        *   **Flexibility:** Highly flexible and allows for intricate control over the generation process.\n",
            "        *   **Extensibility:** Supports custom nodes and extensions.\n",
            "        *   **Powerful for Advanced Users:** Ideal for users who want fine-grained control and experimentation.\n",
            "    *   **Weaknesses:**\n",
            "        *   **Steeper Learning Curve:** Can be more challenging to learn than simpler interfaces.\n",
            "        *   **Requires More Technical Knowledge:** Best suited for users with some understanding of AI and image processing.\n",
            "    *   **Use Cases:** Complex image generation workflows, advanced experimentation, and research.\n",
            "\n",
            "3.  **InvokeAI:**\n",
            "    *   **Strengths:**\n",
            "        *   **User-Friendly Interface:** Provides a more accessible and user-friendly interface compared to some other options.\n",
            "        *   **Good for Beginners:** Easier to get started with, especially for those new to AI image generation.\n",
            "        *   **Feature-Rich:** Offers a good balance of features and ease of use.\n",
            "    *   **Weaknesses:**\n",
            "        *   **Less Flexibility:** May not be as flexible as ComfyUI for highly customized workflows.\n",
            "    *   **Use Cases:** General image generation, art creation, and experimentation for beginners and intermediate users.\n",
            "\n",
            "4.  **DALLE-mini (Craiyon):**\n",
            "    *   **Strengths:**\n",
            "        *   **Simplicity:** Very easy to use and accessible through a web interface.\n",
            "        *   **Fun and Creative:** Good for generating quirky and imaginative images.\n",
            "    *   **Weaknesses:**\n",
            "        *   **Lower Image Quality:** Generally produces lower-resolution and less detailed images compared to Stable Diffusion.\n",
            "        *   **Less Control:** Offers less control over the generation process.\n",
            "    *   **Use Cases:** Quick and fun image generation, brainstorming, and exploring creative ideas.\n",
            "\n",
            "**Factors to Consider When Choosing:**\n",
            "\n",
            "*   **Your Technical Skill Level:** Are you comfortable with command-line interfaces and setting up complex environments, or do you prefer a user-friendly GUI?\n",
            "*   **Your Hardware:** Some models require more powerful GPUs than others.\n",
            "*   **Your Specific Needs:** What kind of images do you want to generate? Do you need a lot of control over the process?\n",
            "*   **Community Support:** A large and active community can be invaluable for troubleshooting and learning.\n",
            "\n",
            "**Recommendations:**\n",
            "\n",
            "*   **For most users, Stable Diffusion (especially SDXL) is the best starting point.** It offers a great balance of versatility, quality, and community support.\n",
            "*   **If you want a visual, node-based workflow and are comfortable with a steeper learning curve, try ComfyUI.**\n",
            "*   **If you are a beginner and want a more user-friendly experience, InvokeAI is a good option.**\n",
            "*   **If you just want to have some fun and generate quick, quirky images, DALLE-mini (Craiyon) is a good choice.**\n",
            "\n",
            "**Keep in Mind:**\n",
            "\n",
            "*   The field of AI image generation is rapidly evolving. New models and techniques are constantly being developed.\n",
            "*   Experimentation is key! Try out different models and see which one best suits your needs.\n",
            "\n",
            "I hope this comprehensive overview helps you make an informed decision! Let me know if you have any more questions.\n",
            "\n"
          ]
        }
      ]
    },
    {
      "cell_type": "code",
      "source": [
        "to_markdown(ai_msg.content)"
      ],
      "metadata": {
        "colab": {
          "base_uri": "https://localhost:8080/",
          "height": 1000
        },
        "id": "WK80gTyLNt_4",
        "outputId": "aff350bd-f3b7-48a6-ad09-7d1817473220"
      },
      "execution_count": null,
      "outputs": [
        {
          "output_type": "execute_result",
          "data": {
            "text/plain": [
              "<IPython.core.display.Markdown object>"
            ],
            "text/markdown": "> That's a great question! The landscape of open-source AI image generation models is constantly evolving, and \"best\" can be subjective depending on your specific needs. However, I can give you a rundown of some of the top contenders and what they excel at:\n> \n> **Top Open-Source Image Generation Models (as of late 2023/early 2024):**\n> \n> 1.  **Stable Diffusion (and its variants):**\n>     *   **Strengths:**\n>         *   **Versatility:** Highly adaptable and capable of generating a wide range of image styles, from photorealistic to artistic.\n>         *   **Large Community:** Huge and active community, leading to tons of resources, tutorials, and pre-trained models.\n>         *   **Customization:** Highly customizable through fine-tuning, LoRAs (Low-Rank Adaptation), and ControlNets.\n>         *   **Accessibility:** Relatively easy to run on consumer-grade hardware (especially with optimized versions).\n>         *   **Rapid Development:** Constantly being improved and updated.\n>     *   **Weaknesses:**\n>         *   **Can be complex to master:** Requires some technical knowledge to fully utilize its potential.\n>         *   **Initial setup can be challenging:** Setting up the environment and dependencies can be tricky for beginners.\n>     *   **Key Variants:**\n>         *   **Stable Diffusion XL (SDXL):** The latest major version, offering improved image quality and detail.\n>         *   **Community-Trained Models:** Many fine-tuned models exist for specific styles (e.g., anime, realistic portraits).\n>     *   **Use Cases:** General image generation, art creation, photo editing, style transfer, and more.\n> \n> 2.  **ComfyUI:**\n>     *   **Strengths:**\n>         *   **Node-Based Interface:** Offers a visual, node-based workflow for creating complex image generation pipelines.\n>         *   **Flexibility:** Highly flexible and allows for intricate control over the generation process.\n>         *   **Extensibility:** Supports custom nodes and extensions.\n>         *   **Powerful for Advanced Users:** Ideal for users who want fine-grained control and experimentation.\n>     *   **Weaknesses:**\n>         *   **Steeper Learning Curve:** Can be more challenging to learn than simpler interfaces.\n>         *   **Requires More Technical Knowledge:** Best suited for users with some understanding of AI and image processing.\n>     *   **Use Cases:** Complex image generation workflows, advanced experimentation, and research.\n> \n> 3.  **InvokeAI:**\n>     *   **Strengths:**\n>         *   **User-Friendly Interface:** Provides a more accessible and user-friendly interface compared to some other options.\n>         *   **Good for Beginners:** Easier to get started with, especially for those new to AI image generation.\n>         *   **Feature-Rich:** Offers a good balance of features and ease of use.\n>     *   **Weaknesses:**\n>         *   **Less Flexibility:** May not be as flexible as ComfyUI for highly customized workflows.\n>     *   **Use Cases:** General image generation, art creation, and experimentation for beginners and intermediate users.\n> \n> 4.  **DALLE-mini (Craiyon):**\n>     *   **Strengths:**\n>         *   **Simplicity:** Very easy to use and accessible through a web interface.\n>         *   **Fun and Creative:** Good for generating quirky and imaginative images.\n>     *   **Weaknesses:**\n>         *   **Lower Image Quality:** Generally produces lower-resolution and less detailed images compared to Stable Diffusion.\n>         *   **Less Control:** Offers less control over the generation process.\n>     *   **Use Cases:** Quick and fun image generation, brainstorming, and exploring creative ideas.\n> \n> **Factors to Consider When Choosing:**\n> \n> *   **Your Technical Skill Level:** Are you comfortable with command-line interfaces and setting up complex environments, or do you prefer a user-friendly GUI?\n> *   **Your Hardware:** Some models require more powerful GPUs than others.\n> *   **Your Specific Needs:** What kind of images do you want to generate? Do you need a lot of control over the process?\n> *   **Community Support:** A large and active community can be invaluable for troubleshooting and learning.\n> \n> **Recommendations:**\n> \n> *   **For most users, Stable Diffusion (especially SDXL) is the best starting point.** It offers a great balance of versatility, quality, and community support.\n> *   **If you want a visual, node-based workflow and are comfortable with a steeper learning curve, try ComfyUI.**\n> *   **If you are a beginner and want a more user-friendly experience, InvokeAI is a good option.**\n> *   **If you just want to have some fun and generate quick, quirky images, DALLE-mini (Craiyon) is a good choice.**\n> \n> **Keep in Mind:**\n> \n> *   The field of AI image generation is rapidly evolving. New models and techniques are constantly being developed.\n> *   Experimentation is key! Try out different models and see which one best suits your needs.\n> \n> I hope this comprehensive overview helps you make an informed decision! Let me know if you have any more questions.\n"
          },
          "metadata": {},
          "execution_count": 26
        }
      ]
    }
  ]
}