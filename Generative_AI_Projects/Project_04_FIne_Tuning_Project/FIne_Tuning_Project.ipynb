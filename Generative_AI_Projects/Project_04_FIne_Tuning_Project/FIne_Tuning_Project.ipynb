{
  "nbformat": 4,
  "nbformat_minor": 0,
  "metadata": {
    "colab": {
      "provenance": [],
      "authorship_tag": "ABX9TyP8SFlMgy567L6hFxgtsl4M",
      "include_colab_link": true
    },
    "kernelspec": {
      "name": "python3",
      "display_name": "Python 3"
    },
    "language_info": {
      "name": "python"
    },
    "widgets": {
      "application/vnd.jupyter.widget-state+json": {
        "cc0bb3afdc1041caac04c304b4a6d358": {
          "model_module": "@jupyter-widgets/controls",
          "model_name": "HBoxModel",
          "model_module_version": "1.5.0",
          "state": {
            "_dom_classes": [],
            "_model_module": "@jupyter-widgets/controls",
            "_model_module_version": "1.5.0",
            "_model_name": "HBoxModel",
            "_view_count": null,
            "_view_module": "@jupyter-widgets/controls",
            "_view_module_version": "1.5.0",
            "_view_name": "HBoxView",
            "box_style": "",
            "children": [
              "IPY_MODEL_7f2cfa899f3243cd9a56b7d6a256ce43",
              "IPY_MODEL_793491c4cb0d4d57a4496d247607af54",
              "IPY_MODEL_c22176542dc84a249f49da333e97c503"
            ],
            "layout": "IPY_MODEL_d8ab5a049d7c4dc99b6e90a8cd339e6d"
          }
        },
        "7f2cfa899f3243cd9a56b7d6a256ce43": {
          "model_module": "@jupyter-widgets/controls",
          "model_name": "HTMLModel",
          "model_module_version": "1.5.0",
          "state": {
            "_dom_classes": [],
            "_model_module": "@jupyter-widgets/controls",
            "_model_module_version": "1.5.0",
            "_model_name": "HTMLModel",
            "_view_count": null,
            "_view_module": "@jupyter-widgets/controls",
            "_view_module_version": "1.5.0",
            "_view_name": "HTMLView",
            "description": "",
            "description_tooltip": null,
            "layout": "IPY_MODEL_7ff4679a58b44389bd047ea1280c2eee",
            "placeholder": "​",
            "style": "IPY_MODEL_962026b54bf94e9f82886ec53381b568",
            "value": "100%"
          }
        },
        "793491c4cb0d4d57a4496d247607af54": {
          "model_module": "@jupyter-widgets/controls",
          "model_name": "FloatProgressModel",
          "model_module_version": "1.5.0",
          "state": {
            "_dom_classes": [],
            "_model_module": "@jupyter-widgets/controls",
            "_model_module_version": "1.5.0",
            "_model_name": "FloatProgressModel",
            "_view_count": null,
            "_view_module": "@jupyter-widgets/controls",
            "_view_module_version": "1.5.0",
            "_view_name": "ProgressView",
            "bar_style": "success",
            "description": "",
            "description_tooltip": null,
            "layout": "IPY_MODEL_3cc728db97b24607a79ac0f99dd62b5f",
            "max": 21,
            "min": 0,
            "orientation": "horizontal",
            "style": "IPY_MODEL_2d1088658e654f6cb5e7fece3f0c0280",
            "value": 21
          }
        },
        "c22176542dc84a249f49da333e97c503": {
          "model_module": "@jupyter-widgets/controls",
          "model_name": "HTMLModel",
          "model_module_version": "1.5.0",
          "state": {
            "_dom_classes": [],
            "_model_module": "@jupyter-widgets/controls",
            "_model_module_version": "1.5.0",
            "_model_name": "HTMLModel",
            "_view_count": null,
            "_view_module": "@jupyter-widgets/controls",
            "_view_module_version": "1.5.0",
            "_view_name": "HTMLView",
            "description": "",
            "description_tooltip": null,
            "layout": "IPY_MODEL_9f9158ce69394d0d8521caa4475ca2b9",
            "placeholder": "​",
            "style": "IPY_MODEL_a68ed9fddc354d93bdcda494407d45b4",
            "value": " 21/21 [00:41&lt;00:00,  1.52s/it]"
          }
        },
        "d8ab5a049d7c4dc99b6e90a8cd339e6d": {
          "model_module": "@jupyter-widgets/base",
          "model_name": "LayoutModel",
          "model_module_version": "1.2.0",
          "state": {
            "_model_module": "@jupyter-widgets/base",
            "_model_module_version": "1.2.0",
            "_model_name": "LayoutModel",
            "_view_count": null,
            "_view_module": "@jupyter-widgets/base",
            "_view_module_version": "1.2.0",
            "_view_name": "LayoutView",
            "align_content": null,
            "align_items": null,
            "align_self": null,
            "border": null,
            "bottom": null,
            "display": null,
            "flex": null,
            "flex_flow": null,
            "grid_area": null,
            "grid_auto_columns": null,
            "grid_auto_flow": null,
            "grid_auto_rows": null,
            "grid_column": null,
            "grid_gap": null,
            "grid_row": null,
            "grid_template_areas": null,
            "grid_template_columns": null,
            "grid_template_rows": null,
            "height": null,
            "justify_content": null,
            "justify_items": null,
            "left": null,
            "margin": null,
            "max_height": null,
            "max_width": null,
            "min_height": null,
            "min_width": null,
            "object_fit": null,
            "object_position": null,
            "order": null,
            "overflow": null,
            "overflow_x": null,
            "overflow_y": null,
            "padding": null,
            "right": null,
            "top": null,
            "visibility": null,
            "width": null
          }
        },
        "7ff4679a58b44389bd047ea1280c2eee": {
          "model_module": "@jupyter-widgets/base",
          "model_name": "LayoutModel",
          "model_module_version": "1.2.0",
          "state": {
            "_model_module": "@jupyter-widgets/base",
            "_model_module_version": "1.2.0",
            "_model_name": "LayoutModel",
            "_view_count": null,
            "_view_module": "@jupyter-widgets/base",
            "_view_module_version": "1.2.0",
            "_view_name": "LayoutView",
            "align_content": null,
            "align_items": null,
            "align_self": null,
            "border": null,
            "bottom": null,
            "display": null,
            "flex": null,
            "flex_flow": null,
            "grid_area": null,
            "grid_auto_columns": null,
            "grid_auto_flow": null,
            "grid_auto_rows": null,
            "grid_column": null,
            "grid_gap": null,
            "grid_row": null,
            "grid_template_areas": null,
            "grid_template_columns": null,
            "grid_template_rows": null,
            "height": null,
            "justify_content": null,
            "justify_items": null,
            "left": null,
            "margin": null,
            "max_height": null,
            "max_width": null,
            "min_height": null,
            "min_width": null,
            "object_fit": null,
            "object_position": null,
            "order": null,
            "overflow": null,
            "overflow_x": null,
            "overflow_y": null,
            "padding": null,
            "right": null,
            "top": null,
            "visibility": null,
            "width": null
          }
        },
        "962026b54bf94e9f82886ec53381b568": {
          "model_module": "@jupyter-widgets/controls",
          "model_name": "DescriptionStyleModel",
          "model_module_version": "1.5.0",
          "state": {
            "_model_module": "@jupyter-widgets/controls",
            "_model_module_version": "1.5.0",
            "_model_name": "DescriptionStyleModel",
            "_view_count": null,
            "_view_module": "@jupyter-widgets/base",
            "_view_module_version": "1.2.0",
            "_view_name": "StyleView",
            "description_width": ""
          }
        },
        "3cc728db97b24607a79ac0f99dd62b5f": {
          "model_module": "@jupyter-widgets/base",
          "model_name": "LayoutModel",
          "model_module_version": "1.2.0",
          "state": {
            "_model_module": "@jupyter-widgets/base",
            "_model_module_version": "1.2.0",
            "_model_name": "LayoutModel",
            "_view_count": null,
            "_view_module": "@jupyter-widgets/base",
            "_view_module_version": "1.2.0",
            "_view_name": "LayoutView",
            "align_content": null,
            "align_items": null,
            "align_self": null,
            "border": null,
            "bottom": null,
            "display": null,
            "flex": null,
            "flex_flow": null,
            "grid_area": null,
            "grid_auto_columns": null,
            "grid_auto_flow": null,
            "grid_auto_rows": null,
            "grid_column": null,
            "grid_gap": null,
            "grid_row": null,
            "grid_template_areas": null,
            "grid_template_columns": null,
            "grid_template_rows": null,
            "height": null,
            "justify_content": null,
            "justify_items": null,
            "left": null,
            "margin": null,
            "max_height": null,
            "max_width": null,
            "min_height": null,
            "min_width": null,
            "object_fit": null,
            "object_position": null,
            "order": null,
            "overflow": null,
            "overflow_x": null,
            "overflow_y": null,
            "padding": null,
            "right": null,
            "top": null,
            "visibility": null,
            "width": null
          }
        },
        "2d1088658e654f6cb5e7fece3f0c0280": {
          "model_module": "@jupyter-widgets/controls",
          "model_name": "ProgressStyleModel",
          "model_module_version": "1.5.0",
          "state": {
            "_model_module": "@jupyter-widgets/controls",
            "_model_module_version": "1.5.0",
            "_model_name": "ProgressStyleModel",
            "_view_count": null,
            "_view_module": "@jupyter-widgets/base",
            "_view_module_version": "1.2.0",
            "_view_name": "StyleView",
            "bar_color": null,
            "description_width": ""
          }
        },
        "9f9158ce69394d0d8521caa4475ca2b9": {
          "model_module": "@jupyter-widgets/base",
          "model_name": "LayoutModel",
          "model_module_version": "1.2.0",
          "state": {
            "_model_module": "@jupyter-widgets/base",
            "_model_module_version": "1.2.0",
            "_model_name": "LayoutModel",
            "_view_count": null,
            "_view_module": "@jupyter-widgets/base",
            "_view_module_version": "1.2.0",
            "_view_name": "LayoutView",
            "align_content": null,
            "align_items": null,
            "align_self": null,
            "border": null,
            "bottom": null,
            "display": null,
            "flex": null,
            "flex_flow": null,
            "grid_area": null,
            "grid_auto_columns": null,
            "grid_auto_flow": null,
            "grid_auto_rows": null,
            "grid_column": null,
            "grid_gap": null,
            "grid_row": null,
            "grid_template_areas": null,
            "grid_template_columns": null,
            "grid_template_rows": null,
            "height": null,
            "justify_content": null,
            "justify_items": null,
            "left": null,
            "margin": null,
            "max_height": null,
            "max_width": null,
            "min_height": null,
            "min_width": null,
            "object_fit": null,
            "object_position": null,
            "order": null,
            "overflow": null,
            "overflow_x": null,
            "overflow_y": null,
            "padding": null,
            "right": null,
            "top": null,
            "visibility": null,
            "width": null
          }
        },
        "a68ed9fddc354d93bdcda494407d45b4": {
          "model_module": "@jupyter-widgets/controls",
          "model_name": "DescriptionStyleModel",
          "model_module_version": "1.5.0",
          "state": {
            "_model_module": "@jupyter-widgets/controls",
            "_model_module_version": "1.5.0",
            "_model_name": "DescriptionStyleModel",
            "_view_count": null,
            "_view_module": "@jupyter-widgets/base",
            "_view_module_version": "1.2.0",
            "_view_name": "StyleView",
            "description_width": ""
          }
        }
      }
    }
  },
  "cells": [
    {
      "cell_type": "markdown",
      "metadata": {
        "id": "view-in-github",
        "colab_type": "text"
      },
      "source": [
        "<a href=\"https://colab.research.google.com/github/HaiderMirza110/Agentic_AI/blob/main/Generative_AI_Projects/Project_04_FIne_Tuning_Project/FIne_Tuning_Project.ipynb\" target=\"_parent\"><img src=\"https://colab.research.google.com/assets/colab-badge.svg\" alt=\"Open In Colab\"/></a>"
      ]
    },
    {
      "cell_type": "code",
      "execution_count": null,
      "metadata": {
        "id": "HfQkWLzsFJto"
      },
      "outputs": [],
      "source": [
        "!pip install -q google-generativeai"
      ]
    },
    {
      "cell_type": "code",
      "source": [
        "import google.generativeai as genai"
      ],
      "metadata": {
        "id": "keCiHZdTFUma"
      },
      "execution_count": null,
      "outputs": []
    },
    {
      "cell_type": "code",
      "source": [
        "from google.colab import userdata\n",
        "genai.configure(api_key=userdata.get('GOOGLE_API_KEY'))"
      ],
      "metadata": {
        "id": "Sw5Hbx8mFXqJ"
      },
      "execution_count": null,
      "outputs": []
    },
    {
      "cell_type": "code",
      "source": [
        "for i, m in zip(range(5), genai.list_tuned_models()):\n",
        "  print(m.name)"
      ],
      "metadata": {
        "id": "Upp29f16FaNK"
      },
      "execution_count": null,
      "outputs": []
    },
    {
      "cell_type": "code",
      "source": [
        "base_model = [\n",
        "    m for m in genai.list_models()\n",
        "    if \"createTunedModel\" in m.supported_generation_methods and\n",
        "    \"flash\" in m.name][0]"
      ],
      "metadata": {
        "id": "1P_AeQH5FgpZ"
      },
      "execution_count": null,
      "outputs": []
    },
    {
      "cell_type": "code",
      "source": [
        "import random\n",
        "import re\n",
        "\n",
        "name = f'Caption Generator-{random.randint(0,10000)}'\n",
        "# Modify the name to match the regex pattern for id\n",
        "tuned_model_id = re.sub(r'[^a-z0-9-]', '-', name.lower()).strip('-')\n",
        "# Ensure it starts with a lowercase letter and replace invalid characters with hyphens\n",
        "\n",
        "operation = genai.create_tuned_model(\n",
        "    # You can use a tuned model here too. Set `source_model=\"tunedModels/...\"`\n",
        "    source_model=base_model.name,\n",
        "    training_data=[\n",
        "        {\n",
        "             'text_input': 'GYM Training',\n",
        "             'output': 'No pain, no gain. 💪 #FitnessGoals #Workout #Motivation #Strength #Health',\n",
        "        },{\n",
        "             'text_input': 'Cake company',\n",
        "             'output': 'Sweet moments. 🧁 #CakeLove #SweetTreats #Desserts #Baking #Celebration',\n",
        "        },{\n",
        "             'text_input': 'Travel agency',\n",
        "             'output': 'Adventure awaits. 🌍 #TravelGoals #Wanderlust #Explore #Adventure #Vacation',\n",
        "        },{\n",
        "             'text_input': 'Fitness trainer',\n",
        "             'output': 'No pain, no gain. 💪 #FitnessGoals #Workout #Motivation #Strength #Health',\n",
        "        },{\n",
        "             'text_input': 'Coffee shop',\n",
        "             'output': 'Start your day right. ☕ #CoffeeLover #MorningBrew #Cafe #Energy #CozyVibes',\n",
        "        },{\n",
        "             'text_input': 'Dog grooming service',\n",
        "             'output': 'Pawsitively perfect. 🐶 #DogGrooming #PetCare #Dogs #FurryFriends #PamperedPets',\n",
        "        },{\n",
        "             'text_input': 'Bookstore',\n",
        "             'output': 'Escape into a book. 📚 #BookWorm #ReadingTime #Books #Literature #Imagination',\n",
        "        },{\n",
        "             'text_input': 'Yoga studio',\n",
        "             'output': 'Find your balance. 🧘‍♀️ #YogaLife #Mindfulness #Wellness #Balance #Peace',\n",
        "        },{\n",
        "             'text_input': 'Jewelry store',\n",
        "             'output': 'Shine bright. 💎 #JewelryLover #Sparkle #Luxury #Style #Glamour',\n",
        "        },{\n",
        "             'text_input': 'Spa and wellness center',\n",
        "             'output': 'Relax and rejuvenate. 🚰 #SpaDay #Wellness #Relaxation #PamperYourself #Beauty',\n",
        "        },{\n",
        "             'text_input': 'Car dealership',\n",
        "             'output': 'Drive your dream. 🚗 #CarLovers #AutoLife #DreamCar #LuxuryCars #Vehicle',\n",
        "        },{\n",
        "             'text_input': 'Photography studio',\n",
        "             'output': 'Capture the moment. 📸 #PhotographyLife #Memories #PhotoShoot #Creativity #Art',\n",
        "        },{\n",
        "             'text_input': 'Music school',\n",
        "             'output': 'Unleash your talent. 🎶 #MusicLovers #LearnMusic #Talent #Creativity #Passion',\n",
        "        },{\n",
        "             'text_input': 'Tech repair shop',\n",
        "             'output': 'Fix it right. 💻 #TechRepair #GadgetCare #Technology #Solutions #Innovation',\n",
        "        },{\n",
        "             'text_input': 'Pet adoption center',\n",
        "             'output': 'Find a friend for life. 🐕 #PetAdoption #AnimalLovers #RescuePets #ForeverHome #FurryFriend',\n",
        "        },{\n",
        "             'text_input': 'Toy store',\n",
        "             'output': 'Playtime paradise. 🧸 #ToyStore #KidsDream #Fun #Toys #Happiness',\n",
        "        },{\n",
        "             'text_input': 'Ice cream parlor',\n",
        "             'output': 'Chill out with a scoop. 🍦 #IceCreamLove #SweetTreat #Desserts #CoolDown #SummerVibes',\n",
        "        },{\n",
        "             'text_input': 'Florist',\n",
        "             'output': 'Bloom your day. 🌸 #FloristShop #FlowerLove #Nature #Beauty #Fresh',\n",
        "        },{\n",
        "             'text_input': 'Home decor shop',\n",
        "             'output': 'Style your home. 🏡 #HomeDecor #LivingSpaces #InteriorDesign #Style #Comfort',\n",
        "        },{\n",
        "             'text_input': 'Art gallery',\n",
        "             'output': 'Art that inspires. 🎨 #ArtGallery #Creativity #Inspiration #Artists #Masterpiece',\n",
        "        },{\n",
        "             'text_input': 'Sportswear shop',\n",
        "             'output': 'Gear up for greatness. 🏃‍♂️ #Sportswear #ActiveLife #Fitness #Style #Performance',\n",
        "        }\n",
        "    ],\n",
        "    id=tuned_model_id, # Use the modified id\n",
        "    epoch_count=4,\n",
        "    batch_size=4,\n",
        "    learning_rate=0.001,\n",
        ")"
      ],
      "metadata": {
        "id": "PMCCiSETFlNS"
      },
      "execution_count": null,
      "outputs": []
    },
    {
      "cell_type": "code",
      "source": [
        "model = genai.get_tuned_model(f'tunedModels/{tuned_model_id}')"
      ],
      "metadata": {
        "id": "Tr70MZGpFpgq"
      },
      "execution_count": null,
      "outputs": []
    },
    {
      "cell_type": "code",
      "source": [
        "import time\n",
        "\n",
        "for status in operation.wait_bar():\n",
        "  time.sleep(30)"
      ],
      "metadata": {
        "colab": {
          "base_uri": "https://localhost:8080/",
          "height": 49,
          "referenced_widgets": [
            "cc0bb3afdc1041caac04c304b4a6d358",
            "7f2cfa899f3243cd9a56b7d6a256ce43",
            "793491c4cb0d4d57a4496d247607af54",
            "c22176542dc84a249f49da333e97c503",
            "d8ab5a049d7c4dc99b6e90a8cd339e6d",
            "7ff4679a58b44389bd047ea1280c2eee",
            "962026b54bf94e9f82886ec53381b568",
            "3cc728db97b24607a79ac0f99dd62b5f",
            "2d1088658e654f6cb5e7fece3f0c0280",
            "9f9158ce69394d0d8521caa4475ca2b9",
            "a68ed9fddc354d93bdcda494407d45b4"
          ]
        },
        "id": "G8docf8rFslB",
        "outputId": "9c22fb1b-9c95-4242-bc7c-882de6a5d65b"
      },
      "execution_count": null,
      "outputs": [
        {
          "output_type": "display_data",
          "data": {
            "text/plain": [
              "  0%|          | 0/21 [00:00<?, ?it/s]"
            ],
            "application/vnd.jupyter.widget-view+json": {
              "version_major": 2,
              "version_minor": 0,
              "model_id": "cc0bb3afdc1041caac04c304b4a6d358"
            }
          },
          "metadata": {}
        }
      ]
    },
    {
      "cell_type": "code",
      "source": [
        "import pandas as pd\n",
        "import seaborn as sns\n",
        "\n",
        "model = operation.result()\n",
        "\n",
        "snapshots = pd.DataFrame(model.tuning_task.snapshots)\n",
        "\n",
        "sns.lineplot(data=snapshots, x = 'epoch', y='mean_loss')\n"
      ],
      "metadata": {
        "colab": {
          "base_uri": "https://localhost:8080/",
          "height": 466
        },
        "id": "8mUom9wQFyJ7",
        "outputId": "96f00f4c-9004-453d-9338-92f6581be16d"
      },
      "execution_count": null,
      "outputs": [
        {
          "output_type": "execute_result",
          "data": {
            "text/plain": [
              "<Axes: xlabel='epoch', ylabel='mean_loss'>"
            ]
          },
          "metadata": {},
          "execution_count": 9
        },
        {
          "output_type": "display_data",
          "data": {
            "text/plain": [
              "<Figure size 640x480 with 1 Axes>"
            ],
            "image/png": "[encoded data removed]"
          },
          "metadata": {}
        }
      ]
    },
    {
      "cell_type": "code",
      "source": [
        "model = genai.GenerativeModel(model_name=f'tunedModels/{tuned_model_id}')"
      ],
      "metadata": {
        "id": "Z6L4lnLnF7sz"
      },
      "execution_count": null,
      "outputs": []
    },
    {
      "cell_type": "code",
      "source": [
        "result = model.generate_content('Sports')\n",
        "result.text"
      ],
      "metadata": {
        "colab": {
          "base_uri": "https://localhost:8080/",
          "height": 35
        },
        "id": "R-C-Jxp6F-Zi",
        "outputId": "6b8bcf93-4873-480e-ef4f-08cf30726db8"
      },
      "execution_count": null,
      "outputs": [
        {
          "output_type": "execute_result",
          "data": {
            "text/plain": [
              "'## SportsUnleash your passion. #SportsLife #ActiveLiving #FitnessGoals #Motivation #PlayHardWinHard'"
            ],
            "application/vnd.google.colaboratory.intrinsic+json": {
              "type": "string"
            }
          },
          "metadata": {},
          "execution_count": 11
        }
      ]
    },
    {
      "cell_type": "code",
      "source": [
        "result = model.generate_content('Cricket')\n",
        "result.text"
      ],
      "metadata": {
        "colab": {
          "base_uri": "https://localhost:8080/",
          "height": 35
        },
        "id": "hkXDjINzGDRB",
        "outputId": "21885aca-12d4-4977-bb9e-46bf06336317"
      },
      "execution_count": null,
      "outputs": [
        {
          "output_type": "execute_result",
          "data": {
            "text/plain": [
              "\" The gentleman's game. #Cricket #Sport #Passion #Game #LiveScore\""
            ],
            "application/vnd.google.colaboratory.intrinsic+json": {
              "type": "string"
            }
          },
          "metadata": {},
          "execution_count": 13
        }
      ]
    },
    {
      "cell_type": "code",
      "source": [
        "result = model.generate_content('Books')\n",
        "result.text"
      ],
      "metadata": {
        "colab": {
          "base_uri": "https://localhost:8080/",
          "height": 35
        },
        "id": "8C1vvosKGKRS",
        "outputId": "0c216b61-8d47-49af-c9ee-c60a94ade0e0"
      },
      "execution_count": null,
      "outputs": [
        {
          "output_type": "execute_result",
          "data": {
            "text/plain": [
              "' Escape into a book. #BookLover #ReadingTime #Books #Literature #Escape'"
            ],
            "application/vnd.google.colaboratory.intrinsic+json": {
              "type": "string"
            }
          },
          "metadata": {},
          "execution_count": 14
        }
      ]
    },
    {
      "cell_type": "code",
      "source": [
        "result = model.generate_content('Sportswear shop')\n",
        "result.text"
      ],
      "metadata": {
        "colab": {
          "base_uri": "https://localhost:8080/",
          "height": 35
        },
        "id": "9LGR4fB3GNd5",
        "outputId": "80727d92-b5fd-43f3-dfea-0fbacc0d7f95"
      },
      "execution_count": null,
      "outputs": [
        {
          "output_type": "execute_result",
          "data": {
            "text/plain": [
              "'Gear up for greatness. #Sportswear #ActiveLife #Fitness #Performance #Goals'"
            ],
            "application/vnd.google.colaboratory.intrinsic+json": {
              "type": "string"
            }
          },
          "metadata": {},
          "execution_count": 16
        }
      ]
    },
    {
      "cell_type": "code",
      "source": [
        "result = model.generate_content('Ice Cream')\n",
        "result.text"
      ],
      "metadata": {
        "colab": {
          "base_uri": "https://localhost:8080/",
          "height": 35
        },
        "id": "QQ09Njg_GSPJ",
        "outputId": "c437adc5-3740-4ce7-b8fd-1bb2fb9ab87a"
      },
      "execution_count": null,
      "outputs": [
        {
          "output_type": "execute_result",
          "data": {
            "text/plain": [
              "' Cool down with a scoop. #IceCreamLove #SweetTreat #Desserts #SummerVibes #ChillOut'"
            ],
            "application/vnd.google.colaboratory.intrinsic+json": {
              "type": "string"
            }
          },
          "metadata": {},
          "execution_count": 17
        }
      ]
    },
    {
      "cell_type": "code",
      "source": [
        "genai.delete_tuned_model(f'tunedModels/{tuned_model_id}')"
      ],
      "metadata": {
        "id": "URPUG5SDGWqj"
      },
      "execution_count": null,
      "outputs": []
    },
    {
      "cell_type": "code",
      "source": [
        "try:\n",
        "  m = genai.get_tuned_model(f'tunedModels/{tuned_model_id}')\n",
        "  print(m)\n",
        "except Exception as e:\n",
        "  print(f\"{type(e)}: {e}\")"
      ],
      "metadata": {
        "colab": {
          "base_uri": "https://localhost:8080/",
          "height": 72
        },
        "id": "ZL6sDUjZGZMJ",
        "outputId": "1d775c3c-6eb1-4e60-b5c7-36ea6fb9cb4c"
      },
      "execution_count": null,
      "outputs": [
        {
          "output_type": "stream",
          "name": "stdout",
          "text": [
            "<class 'google.api_core.exceptions.NotFound'>: 404 GET https://generativelanguage.googleapis.com/v1beta/tunedModels/caption-generator-3767?%24alt=json%3Benum-encoding%3Dint: Tuned model tunedModels/caption-generator-3767 does not exist.\n"
          ]
        },
        {
          "output_type": "stream",
          "name": "stderr",
          "text": [
            "WARNING:tornado.access:404 GET /v1beta/tunedModels/caption-generator-3767?%24alt=json%3Benum-encoding%3Dint (127.0.0.1) 1063.16ms\n"
          ]
        }
      ]
    },
    {
      "cell_type": "code",
      "source": [
        "!pip install langchain google-generativeai seaborn pandas -qU"
      ],
      "metadata": {
        "colab": {
          "base_uri": "https://localhost:8080/"
        },
        "id": "cBcEIi9qGdDi",
        "outputId": "e39df867-a465-46a4-f2fe-119f09ddebf4"
      },
      "execution_count": null,
      "outputs": [
        {
          "output_type": "stream",
          "name": "stdout",
          "text": [
            "\u001b[2K     \u001b[90m━━━━━━━━━━━━━━━━━━━━━━━━━━━━━━━━━━━━━━━━\u001b[0m \u001b[32m89.9/89.9 kB\u001b[0m \u001b[31m5.9 MB/s\u001b[0m eta \u001b[36m0:00:00\u001b[0m\n",
            "\u001b[2K   \u001b[90m━━━━━━━━━━━━━━━━━━━━━━━━━━━━━━━━━━━━━━━━\u001b[0m \u001b[32m1.0/1.0 MB\u001b[0m \u001b[31m37.1 MB/s\u001b[0m eta \u001b[36m0:00:00\u001b[0m\n",
            "\u001b[2K   \u001b[90m━━━━━━━━━━━━━━━━━━━━━━━━━━━━━━━━━━━━━━━━\u001b[0m \u001b[32m13.1/13.1 MB\u001b[0m \u001b[31m63.1 MB/s\u001b[0m eta \u001b[36m0:00:00\u001b[0m\n",
            "\u001b[2K   \u001b[90m━━━━━━━━━━━━━━━━━━━━━━━━━━━━━━━━━━━━━━━━\u001b[0m \u001b[32m412.7/412.7 kB\u001b[0m \u001b[31m23.4 MB/s\u001b[0m eta \u001b[36m0:00:00\u001b[0m\n",
            "\u001b[?25h\u001b[31mERROR: pip's dependency resolver does not currently take into account all the packages that are installed. This behaviour is the source of the following dependency conflicts.\n",
            "google-colab 1.0.0 requires pandas==2.2.2, but you have pandas 2.2.3 which is incompatible.\u001b[0m\u001b[31m\n",
            "\u001b[0m"
          ]
        }
      ]
    },
    {
      "cell_type": "code",
      "source": [
        "import google.generativeai as genai\n",
        "\n",
        "# Configure API Key\n",
        "genai.configure(api_key=\"TUNED_MODEL_API_1\")"
      ],
      "metadata": {
        "id": "E3bm2J5tGhcI"
      },
      "execution_count": null,
      "outputs": []
    },
    {
      "cell_type": "code",
      "source": [
        "!pip install langchain-community -q"
      ],
      "metadata": {
        "colab": {
          "base_uri": "https://localhost:8080/"
        },
        "id": "KbjpKGZmGhtf",
        "outputId": "d41107db-5edb-4db2-f201-70464069b47e"
      },
      "execution_count": null,
      "outputs": [
        {
          "output_type": "stream",
          "name": "stdout",
          "text": [
            "\u001b[?25l   \u001b[90m━━━━━━━━━━━━━━━━━━━━━━━━━━━━━━━━━━━━━━━━\u001b[0m \u001b[32m0.0/2.5 MB\u001b[0m \u001b[31m?\u001b[0m eta \u001b[36m-:--:--\u001b[0m\r\u001b[2K   \u001b[91m━━━━━━━━━━━━━━━━━━━━━━━━━━━━━━━━━━━━━━━\u001b[0m\u001b[91m╸\u001b[0m \u001b[32m2.5/2.5 MB\u001b[0m \u001b[31m128.7 MB/s\u001b[0m eta \u001b[36m0:00:01\u001b[0m\r\u001b[2K   \u001b[90m━━━━━━━━━━━━━━━━━━━━━━━━━━━━━━━━━━━━━━━━\u001b[0m \u001b[32m2.5/2.5 MB\u001b[0m \u001b[31m64.0 MB/s\u001b[0m eta \u001b[36m0:00:00\u001b[0m\n",
            "\u001b[?25h\u001b[?25l   \u001b[90m━━━━━━━━━━━━━━━━━━━━━━━━━━━━━━━━━━━━━━━━\u001b[0m \u001b[32m0.0/50.8 kB\u001b[0m \u001b[31m?\u001b[0m eta \u001b[36m-:--:--\u001b[0m\r\u001b[2K   \u001b[90m━━━━━━━━━━━━━━━━━━━━━━━━━━━━━━━━━━━━━━━━\u001b[0m \u001b[32m50.8/50.8 kB\u001b[0m \u001b[31m4.1 MB/s\u001b[0m eta \u001b[36m0:00:00\u001b[0m\n",
            "\u001b[?25h"
          ]
        }
      ]
    },
    {
      "cell_type": "code",
      "source": [
        "from langchain.llms.base import LLM\n",
        "from pydantic import BaseModel, Field\n",
        "\n",
        "# Custom LangChain LLM Wrapper\n",
        "class GoogleGenAICustomLLM(LLM, BaseModel):\n",
        "    model_name: str = Field(..., description=\"Name of the fine-tuned model\")\n",
        "\n",
        "    @property\n",
        "    def _llm_type(self) -> str:\n",
        "        return \"google_generative_ai\"\n",
        "\n",
        "    def _call(self, prompt: str, stop: list = None) -> str:\n",
        "        try:\n",
        "            model = genai.GenerativeModel(model_name=self.model_name)\n",
        "            response = model.generate_content(prompt)\n",
        "            return response.text\n",
        "        except Exception as e:\n",
        "            return f\"Error generating content: {e}\"\n"
      ],
      "metadata": {
        "id": "-t4HyNtnGuLJ"
      },
      "execution_count": null,
      "outputs": []
    },
    {
      "cell_type": "code",
      "source": [
        "# Replace this with your actual fine-tuned model ID\n",
        "tuned_model_id = \"tunedModels/name-generator-c19d8v6ih2oz\"\n",
        "\n",
        "# Load the fine-tuned model\n",
        "model = genai.GenerativeModel(model_name=tuned_model_id)"
      ],
      "metadata": {
        "id": "_8nSNsEiGxxi"
      },
      "execution_count": null,
      "outputs": []
    },
    {
      "cell_type": "code",
      "source": [
        "from langchain.prompts import PromptTemplate\n",
        "\n",
        "# Define the prompt template\n",
        "prompt = PromptTemplate(\n",
        "    input_variables=[\"business\"],\n",
        "    template=\"Generate a creative caption for {business}:\"\n",
        ")"
      ],
      "metadata": {
        "id": "KD-auSzTG0ja"
      },
      "execution_count": null,
      "outputs": []
    },
    {
      "cell_type": "code",
      "source": [
        "from langchain.chains import LLMChain\n",
        "\n",
        "llm = GoogleGenAICustomLLM(model_name=tuned_model_id)\n",
        "\n",
        "# Create an LLM chain\n",
        "chain = LLMChain(llm=llm, prompt=prompt)"
      ],
      "metadata": {
        "id": "gIMsUR-BG4DZ",
        "outputId": "71295dee-4709-4716-c837-55fa7eeefad1",
        "colab": {
          "base_uri": "https://localhost:8080/"
        }
      },
      "execution_count": null,
      "outputs": [
        {
          "output_type": "stream",
          "name": "stderr",
          "text": [
            "<ipython-input-26-4f05958342ac>:6: LangChainDeprecationWarning: The class `LLMChain` was deprecated in LangChain 0.1.17 and will be removed in 1.0. Use :meth:`~RunnableSequence, e.g., `prompt | llm`` instead.\n",
            "  chain = LLMChain(llm=llm, prompt=prompt)\n"
          ]
        }
      ]
    },
    {
      "cell_type": "code",
      "source": [
        "# Example inputs\n",
        "businesses = [\"Sportswear shop\", \"Yoga studio\", \"Ice cream parlor\"]\n",
        "\n",
        "# Generate and print captions\n",
        "for business in businesses:\n",
        "    caption = chain.run(business=business)\n",
        "    print(f\"Business: {business}\\nCaption: {caption}\\n\")\n"
      ],
      "metadata": {
        "id": "HC1OYStuG8PB",
        "outputId": "62e5b927-76b0-42bb-f524-05483abdb3f5",
        "colab": {
          "base_uri": "https://localhost:8080/",
          "height": 280
        }
      },
      "execution_count": null,
      "outputs": [
        {
          "output_type": "stream",
          "name": "stderr",
          "text": [
            "<ipython-input-27-feca2fe96778>:6: LangChainDeprecationWarning: The method `Chain.run` was deprecated in langchain 0.1.0 and will be removed in 1.0. Use :meth:`~invoke` instead.\n",
            "  caption = chain.run(business=business)\n",
            "WARNING:tornado.access:400 POST /v1beta/tunedModels/name-generator-c19d8v6ih2oz:generateContent?%24alt=json%3Benum-encoding%3Dint (127.0.0.1) 2049.08ms\n"
          ]
        },
        {
          "output_type": "stream",
          "name": "stdout",
          "text": [
            "Business: Sportswear shop\n",
            "Caption: Error generating content: 400 POST https://generativelanguage.googleapis.com/v1beta/tunedModels/name-generator-c19d8v6ih2oz:generateContent?%24alt=json%3Benum-encoding%3Dint: API key not valid. Please pass a valid API key.\n",
            "\n"
          ]
        },
        {
          "output_type": "stream",
          "name": "stderr",
          "text": [
            "WARNING:tornado.access:400 POST /v1beta/tunedModels/name-generator-c19d8v6ih2oz:generateContent?%24alt=json%3Benum-encoding%3Dint (127.0.0.1) 911.51ms\n"
          ]
        },
        {
          "output_type": "stream",
          "name": "stdout",
          "text": [
            "Business: Yoga studio\n",
            "Caption: Error generating content: 400 POST https://generativelanguage.googleapis.com/v1beta/tunedModels/name-generator-c19d8v6ih2oz:generateContent?%24alt=json%3Benum-encoding%3Dint: API key not valid. Please pass a valid API key.\n",
            "\n",
            "Business: Ice cream parlor\n",
            "Caption: Error generating content: 400 POST https://generativelanguage.googleapis.com/v1beta/tunedModels/name-generator-c19d8v6ih2oz:generateContent?%24alt=json%3Benum-encoding%3Dint: API key not valid. Please pass a valid API key.\n",
            "\n"
          ]
        },
        {
          "output_type": "stream",
          "name": "stderr",
          "text": [
            "WARNING:tornado.access:400 POST /v1beta/tunedModels/name-generator-c19d8v6ih2oz:generateContent?%24alt=json%3Benum-encoding%3Dint (127.0.0.1) 890.98ms\n"
          ]
        }
      ]
    }
  ]
}