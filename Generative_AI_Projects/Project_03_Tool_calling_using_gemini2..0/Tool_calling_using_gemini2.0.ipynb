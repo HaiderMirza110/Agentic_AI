{
  "nbformat": 4,
  "nbformat_minor": 0,
  "metadata": {
    "colab": {
      "provenance": [],
      "gpuType": "T4",
      "include_colab_link": true
    },
    "kernelspec": {
      "name": "python3",
      "display_name": "Python 3"
    },
    "language_info": {
      "name": "python"
    },
    "accelerator": "GPU"
  },
  "cells": [
    {
      "cell_type": "markdown",
      "metadata": {
        "id": "view-in-github",
        "colab_type": "text"
      },
      "source": [
        "<a href=\"https://colab.research.google.com/github/HaiderMirza110/Agentic_AI/blob/main/Generative_AI_Projects/Project_03_Tool_calling_using_gemini2..0/Tool_calling_using_gemini2.0.ipynb\" target=\"_parent\"><img src=\"https://colab.research.google.com/assets/colab-badge.svg\" alt=\"Open In Colab\"/></a>"
      ]
    },
    {
      "cell_type": "code",
      "source": [
        "!pip install -q -U langchain langchain_community langchain_google_genai"
      ],
      "metadata": {
        "colab": {
          "base_uri": "https://localhost:8080/"
        },
        "id": "qGrnU2gu-WCX",
        "outputId": "acc86bb5-5111-478f-8404-28f5271caae9"
      },
      "execution_count": 1,
      "outputs": [
        {
          "output_type": "stream",
          "name": "stdout",
          "text": [
            "\u001b[?25l   \u001b[90m━━━━━━━━━━━━━━━━━━━━━━━━━━━━━━━━━━━━━━━━\u001b[0m \u001b[32m0.0/1.0 MB\u001b[0m \u001b[31m?\u001b[0m eta \u001b[36m-:--:--\u001b[0m\r\u001b[2K   \u001b[91m━━━━━━━━━━━━━━━━━━━━━━━━━━━━━━━━━━━━━━━\u001b[0m\u001b[91m╸\u001b[0m \u001b[32m1.0/1.0 MB\u001b[0m \u001b[31m34.3 MB/s\u001b[0m eta \u001b[36m0:00:01\u001b[0m\r\u001b[2K   \u001b[90m━━━━━━━━━━━━━━━━━━━━━━━━━━━━━━━━━━━━━━━━\u001b[0m \u001b[32m1.0/1.0 MB\u001b[0m \u001b[31m23.1 MB/s\u001b[0m eta \u001b[36m0:00:00\u001b[0m\n",
            "\u001b[?25h\u001b[?25l   \u001b[90m━━━━━━━━━━━━━━━━━━━━━━━━━━━━━━━━━━━━━━━━\u001b[0m \u001b[32m0.0/2.5 MB\u001b[0m \u001b[31m?\u001b[0m eta \u001b[36m-:--:--\u001b[0m\r\u001b[2K   \u001b[90m━━━━━━━━━━━━━━━━━━━━━━━━━━━━━━━━━━━━━━━━\u001b[0m \u001b[32m2.5/2.5 MB\u001b[0m \u001b[31m62.1 MB/s\u001b[0m eta \u001b[36m0:00:00\u001b[0m\n",
            "\u001b[?25h\u001b[?25l   \u001b[90m━━━━━━━━━━━━━━━━━━━━━━━━━━━━━━━━━━━━━━━━\u001b[0m \u001b[32m0.0/41.7 kB\u001b[0m \u001b[31m?\u001b[0m eta \u001b[36m-:--:--\u001b[0m\r\u001b[2K   \u001b[90m━━━━━━━━━━━━━━━━━━━━━━━━━━━━━━━━━━━━━━━━\u001b[0m \u001b[32m41.7/41.7 kB\u001b[0m \u001b[31m3.6 MB/s\u001b[0m eta \u001b[36m0:00:00\u001b[0m\n",
            "\u001b[2K   \u001b[90m━━━━━━━━━━━━━━━━━━━━━━━━━━━━━━━━━━━━━━━━\u001b[0m \u001b[32m412.7/412.7 kB\u001b[0m \u001b[31m31.2 MB/s\u001b[0m eta \u001b[36m0:00:00\u001b[0m\n",
            "\u001b[2K   \u001b[90m━━━━━━━━━━━━━━━━━━━━━━━━━━━━━━━━━━━━━━━━\u001b[0m \u001b[32m50.8/50.8 kB\u001b[0m \u001b[31m3.9 MB/s\u001b[0m eta \u001b[36m0:00:00\u001b[0m\n",
            "\u001b[?25h"
          ]
        }
      ]
    },
    {
      "cell_type": "code",
      "source": [
        "from google.colab import userdata\n",
        "import os\n",
        "GOOGLE_API_KEY = userdata.get('GOOGLE_API_KEY')\n",
        "os.environ['GOOGLE_API_KEY'] = userdata.get('GOOGLE_API_KEY')"
      ],
      "metadata": {
        "id": "NI2nQJZzrm7W"
      },
      "execution_count": 2,
      "outputs": []
    },
    {
      "cell_type": "code",
      "source": [
        "from langchain_google_genai import ChatGoogleGenerativeAI\n",
        "\n",
        "llm=ChatGoogleGenerativeAI(model=\"gemini-2.0-flash-exp\",verbose=True)\n",
        "\n",
        "llm.invoke(\"Who is Haider?\").content"
      ],
      "metadata": {
        "colab": {
          "base_uri": "https://localhost:8080/",
          "height": 105
        },
        "id": "7OeyFROwb00M",
        "outputId": "fa164d37-85c1-48f6-ea6e-1cf2b1a1dd83"
      },
      "execution_count": 3,
      "outputs": [
        {
          "output_type": "execute_result",
          "data": {
            "text/plain": [
              "'The name \"Haider\" is a fairly common Arabic name, and it can refer to several notable individuals. To give you the most relevant information, I need a bit more context. Here are some possibilities:\\n\\n**Common Meanings and Associations:**\\n\\n* **A Common Arabic Name:** \"Haider\" (حيدر) is an Arabic name meaning \"lion.\" It\\'s a traditional and respected name often given in Muslim communities.\\n* **A Title:** It can also be used as a title, particularly in Shia Islam, referring to Ali ibn Abi Talib, the fourth Rashidun Caliph and a central figure in Shia Islam. He was known as \"Asadullah\" (Lion of God), and \"Haider\" is often used as a synonym.\\n\\n**Possible Notable Individuals (Depending on Context):**\\n\\n* **Haider al-Abadi:** Former Prime Minister of Iraq.\\n* **Haider Ackermann:** A renowned fashion designer.\\n* **Haider Ali:** A Pakistani cricketer.\\n* **Haider (or Hyder) Ali:** A prominent 18th-century ruler of Mysore in India.\\n* **Haider Ibrahim:** (Less widely known) A Sudanese political scientist and activist.\\n* **And many other individuals:** There are likely countless individuals with the name Haider across various fields and countries.\\n\\n**To help me understand who you\\'re asking about, please provide more context. For example, are you:**\\n\\n* **Interested in a historical figure?**\\n* **Looking for someone in politics?**\\n* **Referring to someone in a specific field, like sports or fashion?**\\n* **Thinking of a specific individual in your personal life?**\\n\\nThe more information you give me, the more accurate and helpful my response can be.'"
            ],
            "application/vnd.google.colaboratory.intrinsic+json": {
              "type": "string"
            }
          },
          "metadata": {},
          "execution_count": 3
        }
      ]
    },
    {
      "cell_type": "code",
      "source": [
        "from langchain.tools import Tool\n",
        "from langchain_core.tools import tool\n",
        "\n",
        "@tool\n",
        "def add(a: int, b: int) -> int:\n",
        "    \"\"\"Add two integers.\"\"\"\n",
        "    print(\"Tool Message:  Addition Tool is Called!\")\n",
        "    print(\"=\"*40)\n",
        "    return a + b\n",
        "@tool\n",
        "def subtract(a: int, b: int) -> int:\n",
        "    \"\"\"Subtract two integers.\"\"\"\n",
        "    print(\"Tool Message:  Subtraction Tool is Called!\")\n",
        "    print(\"=\"*40)\n",
        "    return a - b\n",
        "@tool\n",
        "def multiply(a: int, b: int) -> int:\n",
        "    \"\"\"Multiply two integers.\"\"\"\n",
        "    print(\"Tool Message:  Multiplication Tool is Called!\")\n",
        "    print(\"=\"*40)\n",
        "    return a * b\n",
        "@tool\n",
        "def divide(a: int, b: int) -> float:\n",
        "    \"\"\"Divide two integers.\"\"\"\n",
        "    print(\"Tool Message:  Division Tool is Called!\")\n",
        "    print(\"=\"*40)\n",
        "    if b == 0:\n",
        "        return \"Error: Division by zero is not allowed.\"\n",
        "    return a / b\n",
        "@tool\n",
        "def intro(input_str: str = \"\") -> str:\n",
        "    \"\"\"Provide Haider's introduction.\"\"\"\n",
        "    print(\"Tool Message:  Introduction Tool is Called!\")\n",
        "    print(\"=\"*40)\n",
        "    return (\n",
        "        \"\"\"Haider Mirza is a skilled web developer and programmer with a passion for creating dynamic, user-focused projects.\n",
        "        Here is His Linkedin Profile: https://www.linkedin.com/in/haider-mirza-5a059461\n",
        "        His portfolio features innovative Nexths projects and AI solutions, including a apps built with LangChain and Google Gemini LLM.\n",
        "        He is exploring Agentic AI and intelligent agents, driving advancements in automation and artificial intelligence.\"\"\"\n",
        "    )\n",
        "@tool\n",
        "def creator(input_str: str = \"\") -> str:\n",
        "    \"\"\"Provide Haider's introduction.\"\"\"\n",
        "    print(\"Tool Message:  Developer Detailes Tool is Called!\")\n",
        "    print(\"=\"*40)\n",
        "    return (\n",
        "        \"\"\"I am a Calculator Agent Developed By Haider Mirza.\n",
        "        If You Want to know About Haider Mirza Then Type Who Is haider\n",
        "    \"\"\"\n",
        "    )\n",
        "\n",
        "@tool\n",
        "def goodbye(input_str: str = \"\") -> str:\n",
        "    \"\"\"Stop the Agent.\"\"\"\n",
        "    print(\"Tool Message:  Good Bye Tool is Called!\")\n",
        "    print(\"=\"*40)\n",
        "    return\n",
        "    print(\"Goodbye! Thanks for your visit. Come again...\")\n",
        "\n",
        "@tool\n",
        "def give_social_accounts(input_str: str = \"\") -> str:\n",
        "    \"\"\"Provide Haider's social accounts.\"\"\"\n",
        "    print(\"Tool Message:  Contact Detailes Tool is Called!\")\n",
        "    print(\"=\"*40)\n",
        "    return (\n",
        "        \"\"\"\n",
        "        Haider's Linkedin: https://www.linkedin.com/in/haider-mirza-5a059461\n",
        "        Haider's Github: https://github.com/HaiderMirza110\n",
        "        Haider's Email Address: haidermirza92@gmail.com\n",
        "        Haider's Contact Number: +923343352003\n",
        "        \"\"\"\n",
        "    )"
      ],
      "metadata": {
        "id": "Y520c7Mfr1sl"
      },
      "execution_count": 8,
      "outputs": []
    },
    {
      "cell_type": "code",
      "source": [
        "tools = [\n",
        "    add,\n",
        "    subtract,\n",
        "    multiply,\n",
        "    divide,\n",
        "    intro,\n",
        "    creator,\n",
        "    goodbye,\n",
        "    give_social_accounts\n",
        "]"
      ],
      "metadata": {
        "id": "Q0nRQSFdhEeU"
      },
      "execution_count": 9,
      "outputs": []
    },
    {
      "cell_type": "code",
      "source": [
        "\n",
        "from langchain.agents import initialize_agent, AgentType\n",
        "\n",
        "# Initialize the agent\n",
        "agent = initialize_agent(\n",
        "    tools,                        # Provide the tools\n",
        "    llm,                            # LLM for fallback\n",
        "    agent=AgentType.STRUCTURED_CHAT_ZERO_SHOT_REACT_DESCRIPTION,\n",
        "    max_iterations=50,\n",
        "    # verbose=True                        # Enable debugging output\n",
        ")\n"
      ],
      "metadata": {
        "colab": {
          "base_uri": "https://localhost:8080/"
        },
        "id": "lAk-AVkulb5e",
        "outputId": "46d9bd70-f538-4299-bda2-6b72279d8ff7"
      },
      "execution_count": 10,
      "outputs": [
        {
          "output_type": "stream",
          "name": "stderr",
          "text": [
            "<ipython-input-10-c5358197b741>:4: LangChainDeprecationWarning: LangChain agents will continue to be supported, but it is recommended for new use cases to be built with LangGraph. LangGraph offers a more flexible and full-featured framework for building agents, including support for tool-calling, persistence of state, and human-in-the-loop workflows. For details, refer to the `LangGraph documentation <https://langchain-ai.github.io/langgraph/>`_ as well as guides for `Migrating from AgentExecutor <https://python.langchain.com/docs/how_to/migrate_agent/>`_ and LangGraph's `Pre-built ReAct agent <https://langchain-ai.github.io/langgraph/how-tos/create-react-agent/>`_.\n",
            "  agent = initialize_agent(\n"
          ]
        }
      ]
    },
    {
      "cell_type": "code",
      "source": [
        "t"
      ],
      "metadata": {
        "id": "KQS6L336CLEm"
      },
      "execution_count": null,
      "outputs": []
    },
    {
      "cell_type": "code",
      "source": [
        "print(\"Welcome User\")\n",
        "print(\"=\" * 40)\n",
        "print(\"I am a Calculator Agent, and I also have information about my Creator....\")\n",
        "\n",
        "while True:\n",
        "    user_query = input(\"Ask your query (type 'exit' or 'goodbye' to end): \").strip().lower()\n",
        "    print(f\"Human Message: {user_query}\")\n",
        "    print(\"=\" * 40)\n",
        "    if user_query in [\"exit\", \"i have to go\", \"goodbye\", \"please stop\", \"end\"]:\n",
        "        print(\"Agent Response: Goodbye! Thanks for your visit. Come again...\")\n",
        "        print(\"=\" * 40)\n",
        "        break\n",
        "    try:\n",
        "        # Adjust the input dictionary to match the expected key\n",
        "\n",
        "        response = agent.invoke({\"input\": user_query})  # 'input' key in lowercase\n",
        "        print(f\"Agent Response: {response.get('output', 'No output available')}\")  # Safely access the response output\n",
        "        print(\"=\" * 40)\n",
        "    except Exception as e:\n",
        "        print(f\"An error occurred: {e}\")"
      ],
      "metadata": {
        "id": "piVxJJ5ulWo0",
        "colab": {
          "base_uri": "https://localhost:8080/"
        },
        "outputId": "ade2b2d7-ce17-47b8-dbb9-143d5650fc2c"
      },
      "execution_count": 12,
      "outputs": [
        {
          "output_type": "stream",
          "name": "stdout",
          "text": [
            "Welcome User\n",
            "========================================\n",
            "I am a Calculator Agent, and I also have information about my Creator....\n",
            "Ask your query (type 'exit' or 'goodbye' to end): social media\n",
            "Human Message: social media\n",
            "========================================\n",
            "Tool Message:  Contact Detailes Tool is Called!\n",
            "========================================\n",
            "Agent Response: Haider's Linkedin: https://www.linkedin.com/in/haider-mirza-5a059461, Haider's Github: https://github.com/HaiderMirza110, Haider's Email Address: haidermirza92@gmail.com, Haider's Contact Number: +923343352003\n",
            "========================================\n",
            "Ask your query (type 'exit' or 'goodbye' to end): end\n",
            "Human Message: end\n",
            "========================================\n",
            "Agent Response: Goodbye! Thanks for your visit. Come again...\n",
            "========================================\n"
          ]
        }
      ]
    }
  ]
}